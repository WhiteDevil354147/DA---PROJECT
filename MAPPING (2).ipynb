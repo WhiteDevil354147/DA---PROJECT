{
 "cells": [
  {
   "cell_type": "code",
   "execution_count": 1,
   "id": "fafd997e-0d69-4dc4-b4cd-76356a378db0",
   "metadata": {},
   "outputs": [
    {
     "name": "stdout",
     "output_type": "stream",
     "text": [
      "                                       Input Name  \\\n",
      "0                                       AKS Group   \n",
      "1                         CDM Acquisitionco, Inc.   \n",
      "2  FA/SEG Holdings LLC (Safety Enhancement Group)   \n",
      "3                          Growlings Parent, Inc.   \n",
      "4          ZDSP Acquisition Corp and Subsidiaries   \n",
      "5                                             XYZ   \n",
      "6                            MAL Intermediate LLC   \n",
      "\n",
      "                              Mapped Name  \n",
      "0                                      NA  \n",
      "1                  CDMA Acquisition Corp.  \n",
      "2           Safety Enhancement Group, LLC  \n",
      "3  Growlings Sporting Goods Company, Inc.  \n",
      "4                                      NA  \n",
      "5                                      NA  \n",
      "6                                      NA  \n"
     ]
    }
   ],
   "source": [
    "import re\n",
    "import difflib\n",
    "import pandas as pd\n",
    "\n",
    "# Known universe of entities\n",
    "known_universe = [\n",
    "    \"AKS Midco 3 Ltd.\",\n",
    "    \"CDMA Acquisition Corp.\",\n",
    "    \"Safety Enhancement Group, LLC\",\n",
    "    \"Growlings Sporting Goods Company, Inc.\",\n",
    "    \"ZDS Brands, LLC\"\n",
    "]\n",
    "\n",
    "# Input list of arbitrary fund names\n",
    "input_list = [\n",
    "    \"AKS Group\",\n",
    "    \"CDM Acquisitionco, Inc.\",\n",
    "    \"FA/SEG Holdings LLC (Safety Enhancement Group)\",\n",
    "    \"Growlings Parent, Inc.\",\n",
    "    \"ZDSP Acquisition Corp and Subsidiaries\",\n",
    "    \"XYZ\",\n",
    "    \"MAL Intermediate LLC\"\n",
    "]\n",
    "\n",
    "# Function to clean entity names\n",
    "def clean_name(name: str) -> str:\n",
    "    name = name.lower()\n",
    "    name = re.sub(r'[\\(\\)\\.,]', '', name)  # remove punctuation\n",
    "    # remove only legal suffixes, keep meaningful words\n",
    "    name = re.sub(r'\\b(inc|llc|corp|ltd|company|co)\\b', '', name)\n",
    "    name = re.sub(r'\\s+', ' ', name).strip()\n",
    "    return name\n",
    "\n",
    "# Clean known universe\n",
    "cleaned_universe = {name: clean_name(name) for name in known_universe}\n",
    "\n",
    "# Mapping function\n",
    "def map_name(arbitrary_name, threshold=0.6):\n",
    "    cleaned_input = clean_name(arbitrary_name)\n",
    "\n",
    "    best_match = difflib.get_close_matches(\n",
    "        cleaned_input,\n",
    "        list(cleaned_universe.values()),\n",
    "        n=1,\n",
    "        cutoff=threshold\n",
    "    )\n",
    "\n",
    "    if best_match:\n",
    "        for original, cleaned in cleaned_universe.items():\n",
    "            if cleaned == best_match[0]:\n",
    "                return original\n",
    "    return \"NA\"\n",
    "\n",
    "# Run mapping\n",
    "results = {name: map_name(name) for name in input_list}\n",
    "\n",
    "# Convert to DataFrame for display\n",
    "df = pd.DataFrame(list(results.items()), columns=[\"Input Name\", \"Mapped Name\"])\n",
    "print(df)\n"
   ]
  },
  {
   "cell_type": "code",
   "execution_count": null,
   "id": "d4136a58-9ee1-44a6-a8f5-7b394427d6bb",
   "metadata": {},
   "outputs": [],
   "source": []
  }
 ],
 "metadata": {
  "kernelspec": {
   "display_name": "Python 3 (ipykernel)",
   "language": "python",
   "name": "python3"
  },
  "language_info": {
   "codemirror_mode": {
    "name": "ipython",
    "version": 3
   },
   "file_extension": ".py",
   "mimetype": "text/x-python",
   "name": "python",
   "nbconvert_exporter": "python",
   "pygments_lexer": "ipython3",
   "version": "3.13.5"
  }
 },
 "nbformat": 4,
 "nbformat_minor": 5
}
