{
 "cells": [
  {
   "cell_type": "code",
   "execution_count": 2,
   "id": "bd22c343",
   "metadata": {},
   "outputs": [
    {
     "name": "stdout",
     "output_type": "stream",
     "text": [
      "                                       Input Name  \\\n",
      "0                                       AKS Group   \n",
      "1                         CDM Acquisitionco, Inc.   \n",
      "2  FA/SEG Holdings LLC (Safety Enhancement Group)   \n",
      "3                          Growlings Parent, Inc.   \n",
      "4          ZDSP Acquisition Corp and Subsidiaries   \n",
      "5                                             XYZ   \n",
      "6                            MAL Intermediate LLC   \n",
      "\n",
      "                     Mapped Name  \n",
      "0                             NA  \n",
      "1         CDMA Acquisition Corp.  \n",
      "2  Safety Enhancement Group, LLC  \n",
      "3                             NA  \n",
      "4                             NA  \n",
      "5                             NA  \n",
      "6                             NA  \n"
     ]
    }
   ],
   "source": [
    "import re\n",
    "import difflib\n",
    "import pandas as pd\n",
    "\n",
    "\n",
    "known_universe = [\n",
    "    \"AKS Midco 3 Ltd.\",\n",
    "    \"CDMA Acquisition Corp.\",\n",
    "    \"Safety Enhancement Group, LLC\",\n",
    "    \"Growlings Sporting Goods Company, Inc.\",\n",
    "    \"ZDS Brands, LLC\"\n",
    "]\n",
    "\n",
    "input_list = [\n",
    "    \"AKS Group\",\n",
    "    \"CDM Acquisitionco, Inc.\",\n",
    "    \"FA/SEG Holdings LLC (Safety Enhancement Group)\",\n",
    "    \"Growlings Parent, Inc.\",\n",
    "    \"ZDSP Acquisition Corp and Subsidiaries\",\n",
    "    \"XYZ\",\n",
    "    \"MAL Intermediate LLC\"\n",
    "]\n",
    "\n",
    "def clean_name(name):\n",
    "    name = name.lower()\n",
    "    name = re.sub(r'[\\(\\)\\.,]', '', name)\n",
    "    name = re.sub(r'\\b(inc|llc|corp|ltd|company|co|holdings|group|parent|subsidiaries)\\b', '', name)\n",
    "    name = re.sub(r'\\s+', ' ', name).strip()\n",
    "    return name\n",
    "\n",
    "cleaned_universe = {name: clean_name(name) for name in known_universe}\n",
    "\n",
    "def map_name(arbitrary_name, threshold=0.75):\n",
    "    cleaned_input = clean_name(arbitrary_name)\n",
    "\n",
    "    best_match = difflib.get_close_matches(\n",
    "        cleaned_input,\n",
    "        list(cleaned_universe.values()),\n",
    "        n=1,\n",
    "        cutoff=threshold\n",
    "    )\n",
    "\n",
    "    if best_match:\n",
    "\n",
    "        for original, cleaned in cleaned_universe.items():\n",
    "            if cleaned == best_match[0]:\n",
    "                return original\n",
    "    return \"NA\"\n",
    "results = {name: map_name(name) for name in input_list}\n",
    "\n",
    "df = pd.DataFrame(list(results.items()), columns=[\"Input Name\", \"Mapped Name\"])\n",
    "print(df)"
   ]
  },
  {
   "cell_type": "code",
   "execution_count": null,
   "id": "b9f29301",
   "metadata": {},
   "outputs": [],
   "source": []
  }
 ],
 "metadata": {
  "kernelspec": {
   "display_name": "Python 3 (ipykernel)",
   "language": "python",
   "name": "python3"
  },
  "language_info": {
   "codemirror_mode": {
    "name": "ipython",
    "version": 3
   },
   "file_extension": ".py",
   "mimetype": "text/x-python",
   "name": "python",
   "nbconvert_exporter": "python",
   "pygments_lexer": "ipython3",
   "version": "3.11.5"
  }
 },
 "nbformat": 4,
 "nbformat_minor": 5
}
